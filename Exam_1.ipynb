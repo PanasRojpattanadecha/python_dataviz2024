{
  "nbformat": 4,
  "nbformat_minor": 0,
  "metadata": {
    "colab": {
      "provenance": [],
      "authorship_tag": "ABX9TyPf2O25iB9Gcz7JG1f1H0tY",
      "include_colab_link": true
    },
    "kernelspec": {
      "name": "python3",
      "display_name": "Python 3"
    },
    "language_info": {
      "name": "python"
    }
  },
  "cells": [
    {
      "cell_type": "markdown",
      "metadata": {
        "id": "view-in-github",
        "colab_type": "text"
      },
      "source": [
        "<a href=\"https://colab.research.google.com/github/PanasRojpattanadecha/python_dataviz2024/blob/main/Exam_1.ipynb\" target=\"_parent\"><img src=\"https://colab.research.google.com/assets/colab-badge.svg\" alt=\"Open In Colab\"/></a>"
      ]
    },
    {
      "cell_type": "code",
      "source": [
        "from google.colab import files\n",
        "uploaded = files.upload()\n"
      ],
      "metadata": {
        "colab": {
          "base_uri": "https://localhost:8080/",
          "height": 73
        },
        "id": "04l38Ow5ADkV",
        "outputId": "4a58ad3d-fc84-4ef6-9766-ed1560b437ef"
      },
      "execution_count": 10,
      "outputs": [
        {
          "output_type": "display_data",
          "data": {
            "text/plain": [
              "<IPython.core.display.HTML object>"
            ],
            "text/html": [
              "\n",
              "     <input type=\"file\" id=\"files-627ab3aa-c990-4603-8feb-9ff9fbfb82d0\" name=\"files[]\" multiple disabled\n",
              "        style=\"border:none\" />\n",
              "     <output id=\"result-627ab3aa-c990-4603-8feb-9ff9fbfb82d0\">\n",
              "      Upload widget is only available when the cell has been executed in the\n",
              "      current browser session. Please rerun this cell to enable.\n",
              "      </output>\n",
              "      <script>// Copyright 2017 Google LLC\n",
              "//\n",
              "// Licensed under the Apache License, Version 2.0 (the \"License\");\n",
              "// you may not use this file except in compliance with the License.\n",
              "// You may obtain a copy of the License at\n",
              "//\n",
              "//      http://www.apache.org/licenses/LICENSE-2.0\n",
              "//\n",
              "// Unless required by applicable law or agreed to in writing, software\n",
              "// distributed under the License is distributed on an \"AS IS\" BASIS,\n",
              "// WITHOUT WARRANTIES OR CONDITIONS OF ANY KIND, either express or implied.\n",
              "// See the License for the specific language governing permissions and\n",
              "// limitations under the License.\n",
              "\n",
              "/**\n",
              " * @fileoverview Helpers for google.colab Python module.\n",
              " */\n",
              "(function(scope) {\n",
              "function span(text, styleAttributes = {}) {\n",
              "  const element = document.createElement('span');\n",
              "  element.textContent = text;\n",
              "  for (const key of Object.keys(styleAttributes)) {\n",
              "    element.style[key] = styleAttributes[key];\n",
              "  }\n",
              "  return element;\n",
              "}\n",
              "\n",
              "// Max number of bytes which will be uploaded at a time.\n",
              "const MAX_PAYLOAD_SIZE = 100 * 1024;\n",
              "\n",
              "function _uploadFiles(inputId, outputId) {\n",
              "  const steps = uploadFilesStep(inputId, outputId);\n",
              "  const outputElement = document.getElementById(outputId);\n",
              "  // Cache steps on the outputElement to make it available for the next call\n",
              "  // to uploadFilesContinue from Python.\n",
              "  outputElement.steps = steps;\n",
              "\n",
              "  return _uploadFilesContinue(outputId);\n",
              "}\n",
              "\n",
              "// This is roughly an async generator (not supported in the browser yet),\n",
              "// where there are multiple asynchronous steps and the Python side is going\n",
              "// to poll for completion of each step.\n",
              "// This uses a Promise to block the python side on completion of each step,\n",
              "// then passes the result of the previous step as the input to the next step.\n",
              "function _uploadFilesContinue(outputId) {\n",
              "  const outputElement = document.getElementById(outputId);\n",
              "  const steps = outputElement.steps;\n",
              "\n",
              "  const next = steps.next(outputElement.lastPromiseValue);\n",
              "  return Promise.resolve(next.value.promise).then((value) => {\n",
              "    // Cache the last promise value to make it available to the next\n",
              "    // step of the generator.\n",
              "    outputElement.lastPromiseValue = value;\n",
              "    return next.value.response;\n",
              "  });\n",
              "}\n",
              "\n",
              "/**\n",
              " * Generator function which is called between each async step of the upload\n",
              " * process.\n",
              " * @param {string} inputId Element ID of the input file picker element.\n",
              " * @param {string} outputId Element ID of the output display.\n",
              " * @return {!Iterable<!Object>} Iterable of next steps.\n",
              " */\n",
              "function* uploadFilesStep(inputId, outputId) {\n",
              "  const inputElement = document.getElementById(inputId);\n",
              "  inputElement.disabled = false;\n",
              "\n",
              "  const outputElement = document.getElementById(outputId);\n",
              "  outputElement.innerHTML = '';\n",
              "\n",
              "  const pickedPromise = new Promise((resolve) => {\n",
              "    inputElement.addEventListener('change', (e) => {\n",
              "      resolve(e.target.files);\n",
              "    });\n",
              "  });\n",
              "\n",
              "  const cancel = document.createElement('button');\n",
              "  inputElement.parentElement.appendChild(cancel);\n",
              "  cancel.textContent = 'Cancel upload';\n",
              "  const cancelPromise = new Promise((resolve) => {\n",
              "    cancel.onclick = () => {\n",
              "      resolve(null);\n",
              "    };\n",
              "  });\n",
              "\n",
              "  // Wait for the user to pick the files.\n",
              "  const files = yield {\n",
              "    promise: Promise.race([pickedPromise, cancelPromise]),\n",
              "    response: {\n",
              "      action: 'starting',\n",
              "    }\n",
              "  };\n",
              "\n",
              "  cancel.remove();\n",
              "\n",
              "  // Disable the input element since further picks are not allowed.\n",
              "  inputElement.disabled = true;\n",
              "\n",
              "  if (!files) {\n",
              "    return {\n",
              "      response: {\n",
              "        action: 'complete',\n",
              "      }\n",
              "    };\n",
              "  }\n",
              "\n",
              "  for (const file of files) {\n",
              "    const li = document.createElement('li');\n",
              "    li.append(span(file.name, {fontWeight: 'bold'}));\n",
              "    li.append(span(\n",
              "        `(${file.type || 'n/a'}) - ${file.size} bytes, ` +\n",
              "        `last modified: ${\n",
              "            file.lastModifiedDate ? file.lastModifiedDate.toLocaleDateString() :\n",
              "                                    'n/a'} - `));\n",
              "    const percent = span('0% done');\n",
              "    li.appendChild(percent);\n",
              "\n",
              "    outputElement.appendChild(li);\n",
              "\n",
              "    const fileDataPromise = new Promise((resolve) => {\n",
              "      const reader = new FileReader();\n",
              "      reader.onload = (e) => {\n",
              "        resolve(e.target.result);\n",
              "      };\n",
              "      reader.readAsArrayBuffer(file);\n",
              "    });\n",
              "    // Wait for the data to be ready.\n",
              "    let fileData = yield {\n",
              "      promise: fileDataPromise,\n",
              "      response: {\n",
              "        action: 'continue',\n",
              "      }\n",
              "    };\n",
              "\n",
              "    // Use a chunked sending to avoid message size limits. See b/62115660.\n",
              "    let position = 0;\n",
              "    do {\n",
              "      const length = Math.min(fileData.byteLength - position, MAX_PAYLOAD_SIZE);\n",
              "      const chunk = new Uint8Array(fileData, position, length);\n",
              "      position += length;\n",
              "\n",
              "      const base64 = btoa(String.fromCharCode.apply(null, chunk));\n",
              "      yield {\n",
              "        response: {\n",
              "          action: 'append',\n",
              "          file: file.name,\n",
              "          data: base64,\n",
              "        },\n",
              "      };\n",
              "\n",
              "      let percentDone = fileData.byteLength === 0 ?\n",
              "          100 :\n",
              "          Math.round((position / fileData.byteLength) * 100);\n",
              "      percent.textContent = `${percentDone}% done`;\n",
              "\n",
              "    } while (position < fileData.byteLength);\n",
              "  }\n",
              "\n",
              "  // All done.\n",
              "  yield {\n",
              "    response: {\n",
              "      action: 'complete',\n",
              "    }\n",
              "  };\n",
              "}\n",
              "\n",
              "scope.google = scope.google || {};\n",
              "scope.google.colab = scope.google.colab || {};\n",
              "scope.google.colab._files = {\n",
              "  _uploadFiles,\n",
              "  _uploadFilesContinue,\n",
              "};\n",
              "})(self);\n",
              "</script> "
            ]
          },
          "metadata": {}
        },
        {
          "output_type": "stream",
          "name": "stdout",
          "text": [
            "Saving test-TidyData_2024.xlsx to test-TidyData_2024.xlsx\n"
          ]
        }
      ]
    },
    {
      "cell_type": "code",
      "source": [
        "import pandas as pd\n",
        "\n",
        "# ใช้ชื่อไฟล์ที่อัปโหลดเข้ามา\n",
        "file_path = 'test-TidyData_2024.xlsx'  # ตัวอย่าง: 'test-TidyData_2024.xlsx'\n",
        "df = pd.read_excel(file_path, sheet_name='water_quality')\n"
      ],
      "metadata": {
        "id": "G3xSY1ngAOAk"
      },
      "execution_count": 12,
      "outputs": []
    },
    {
      "cell_type": "markdown",
      "source": [
        "# 1. ความแตกต่างของ ค่าเฉลี่ย ของข้อมูล Chlo_a ทุกๆ station ระหว่างปี 2018 และ ปี 2019"
      ],
      "metadata": {
        "id": "tqlcpT-1Ao3b"
      }
    },
    {
      "cell_type": "code",
      "source": [
        "# สร้างคอลัมน์ปีจากคอลัมน์ 'month'\n",
        "df['year'] = df['month'].str[-4:]\n",
        "\n",
        "# หาค่าเฉลี่ย Chlo_a ระหว่างปี 2018 และ 2019 สำหรับทุก station\n",
        "mean_chlo_a = df.groupby(['station', 'year'])['Chlo_a'].mean().unstack()\n",
        "\n",
        "# คำนวณความแตกต่างระหว่างปี 2018 และ 2019\n",
        "mean_chlo_a['diff_2018_2019'] = mean_chlo_a['2019'] - mean_chlo_a['2018']\n",
        "\n",
        "# แสดงผลลัพธ์ค่าเฉลี่ย Chlo_a และความแตกต่าง\n",
        "print(\"ค่าเฉลี่ย Chlo_a ระหว่างปี 2018 และ 2019 สำหรับแต่ละสถานี:\")\n",
        "print(mean_chlo_a[['2018', '2019', 'diff_2018_2019']])"
      ],
      "metadata": {
        "colab": {
          "base_uri": "https://localhost:8080/"
        },
        "id": "wp5iuvFMAf8U",
        "outputId": "67e14966-14e4-4f4a-9a6a-4d25f4a12d51"
      },
      "execution_count": 13,
      "outputs": [
        {
          "output_type": "stream",
          "name": "stdout",
          "text": [
            "ค่าเฉลี่ย Chlo_a ระหว่างปี 2018 และ 2019 สำหรับแต่ละสถานี:\n",
            "year         2018      2019  diff_2018_2019\n",
            "station                                    \n",
            "1        0.052529  0.018268       -0.034261\n",
            "2        0.048112  0.027911       -0.020201\n",
            "3        0.053285  0.023057       -0.030228\n",
            "4        0.046794  0.021620       -0.025173\n",
            "5        0.043432  0.020100       -0.023331\n",
            "6        0.043809  0.015594       -0.028215\n"
          ]
        }
      ]
    },
    {
      "cell_type": "markdown",
      "source": [
        "# 2. สร้างตารางค่าเฉลี่ย Chlo_b ทุกๆ station ของแต่ละเดือน"
      ],
      "metadata": {
        "id": "F23sZvQEAtn8"
      }
    },
    {
      "cell_type": "code",
      "source": [
        "# สร้างคอลัมน์ month_only จากคอลัมน์ 'month' โดยแยกเอาเฉพาะชื่อเดือน\n",
        "df['month_only'] = df['month'].str.split('_').str[0]\n",
        "\n",
        "# หาค่าเฉลี่ย Chlo_b สำหรับทุก station ในแต่ละเดือน\n",
        "mean_chlo_b = df.groupby(['station', 'month_only'])['Chlo_b'].mean().unstack()\n",
        "\n",
        "# แสดงผลลัพธ์ค่าเฉลี่ย Chlo_b\n",
        "print(\"ตารางค่าเฉลี่ย Chlo_b สำหรับทุกสถานีในแต่ละเดือน:\")\n",
        "print(mean_chlo_b)"
      ],
      "metadata": {
        "colab": {
          "base_uri": "https://localhost:8080/"
        },
        "id": "fVazGfdlAwds",
        "outputId": "922869c5-1749-4f56-c709-f872456fd3b7"
      },
      "execution_count": 14,
      "outputs": [
        {
          "output_type": "stream",
          "name": "stdout",
          "text": [
            "ตารางค่าเฉลี่ย Chlo_b สำหรับทุกสถานีในแต่ละเดือน:\n",
            "month_only       Apr       Aug       Dec       Jan      July      June  \\\n",
            "station                                                                  \n",
            "1           0.051381  0.075665  0.070061  0.022451  0.030526  0.020548   \n",
            "2           0.019378  0.065403  0.064375  0.014968  0.038211  0.013194   \n",
            "3           0.030775  0.065179  0.080867  0.017722  0.045500  0.013301   \n",
            "4           0.020170  0.061289  0.061951  0.012142  0.035326  0.013821   \n",
            "5           0.027015  0.060107  0.070085  0.009789  0.037839  0.013880   \n",
            "6           0.025655  0.063027  0.065663  0.013856  0.033133  0.008583   \n",
            "\n",
            "month_only       May       Nov       Oct       Sep  \n",
            "station                                             \n",
            "1           0.015949  0.075937  0.131764  0.063890  \n",
            "2           0.028765  0.064552  0.122767  0.074578  \n",
            "3           0.015890  0.097963  0.106404  0.076292  \n",
            "4           0.015559  0.070605  0.090834  0.064670  \n",
            "5           0.016623  0.063866  0.082381  0.060733  \n",
            "6           0.023882  0.073360  0.079449  0.061750  \n"
          ]
        }
      ]
    }
  ]
}